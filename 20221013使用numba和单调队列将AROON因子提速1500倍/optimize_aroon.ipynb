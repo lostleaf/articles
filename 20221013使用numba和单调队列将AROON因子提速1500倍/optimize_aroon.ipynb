{
 "cells": [
  {
   "cell_type": "code",
   "execution_count": 1,
   "id": "a2d02378",
   "metadata": {},
   "outputs": [],
   "source": [
    "import pandas as pd\n",
    "import numpy as np\n",
    "import numba as nb\n",
    "\n",
    "import matplotlib.pyplot as plt\n",
    "\n",
    "%matplotlib inline"
   ]
  },
  {
   "cell_type": "code",
   "execution_count": 2,
   "id": "a31d5be0",
   "metadata": {},
   "outputs": [
    {
     "name": "stdout",
     "output_type": "stream",
     "text": [
      "|    |    high |      low |    close |\n",
      "|---:|--------:|---------:|---------:|\n",
      "|  0 | 10017.9 |  9965.82 |  9999.99 |\n",
      "|  1 | 10012.4 |  9960.32 |  9994.49 |\n",
      "|  2 | 10009.6 |  9957.53 |  9991.71 |\n",
      "|  3 | 10049.3 |  9997.23 | 10031.4  |\n",
      "|  4 | 10055   | 10002.9  | 10037    | \n",
      "\n",
      "|       |    high |     low |   close |\n",
      "|------:|--------:|--------:|--------:|\n",
      "| 49995 | 13187.1 | 13135   | 13169.2 |\n",
      "| 49996 | 13209.7 | 13157.6 | 13191.8 |\n",
      "| 49997 | 13223.1 | 13171   | 13205.2 |\n",
      "| 49998 | 13221.6 | 13169.5 | 13203.7 |\n",
      "| 49999 | 13242.1 | 13190   | 13224.2 | \n",
      "\n",
      "|       |      high |       low |     close |\n",
      "|:------|----------:|----------:|----------:|\n",
      "| count | 50000     | 50000     | 50000     |\n",
      "| mean  | 11801.7   | 11749.6   | 11783.7   |\n",
      "| std   |   943.887 |   943.887 |   943.887 |\n",
      "| min   |  9543.01  |  9490.91  |  9525.09  |\n",
      "| 25%   | 11007.4   | 10955.3   | 10989.5   |\n",
      "| 50%   | 11986.2   | 11934.1   | 11968.3   |\n",
      "| 75%   | 12524.3   | 12472.2   | 12506.4   |\n",
      "| max   | 14159.4   | 14107.3   | 14141.5   |\n"
     ]
    }
   ],
   "source": [
    "length = 50000\n",
    "n = 200\n",
    "\n",
    "np.random.seed(2022)\n",
    "cl = 10000 + np.cumsum(np.random.normal(scale=20, size=length))\n",
    "hi = cl + np.random.rand() * 100\n",
    "lo = cl - np.random.rand() * 100\n",
    "\n",
    "df = pd.DataFrame({'high': hi, 'low': lo, 'close': cl})\n",
    "\n",
    "print(df.head()[['high', 'low', 'close']].to_markdown(), '\\n')\n",
    "\n",
    "print(df.tail()[['high', 'low', 'close']].to_markdown(), '\\n')\n",
    "\n",
    "print(df.describe().to_markdown())"
   ]
  },
  {
   "cell_type": "code",
   "execution_count": 3,
   "id": "468bfa66",
   "metadata": {},
   "outputs": [],
   "source": [
    "def check_signal(sig_original, sig_check):\n",
    "    print('Num of nan:', sig_check.isna().sum())\n",
    "    mask = sig_original.notnull() & sig_check.notnull()\n",
    "    n_eq = ((sig_original[mask] - sig_check[mask]).abs() < 1e-8).sum()\n",
    "    l = mask.sum()\n",
    "    print(f'Num of equal: {n_eq}, Num of not equal: {l - n_eq}, Ratio good: {n_eq / l * 100.0}%')"
   ]
  },
  {
   "cell_type": "code",
   "execution_count": 4,
   "id": "7467915b",
   "metadata": {},
   "outputs": [
    {
     "name": "stdout",
     "output_type": "stream",
     "text": [
      "CPU times: user 2.82 s, sys: 134 ms, total: 2.95 s\n",
      "Wall time: 2.83 s\n"
     ]
    }
   ],
   "source": [
    "def aroon_naive(df, n):\n",
    "    # 求列的 rolling 窗口内的最大值对于的 index\n",
    "    high_len = df['high'].rolling(n, min_periods=1).apply(lambda x: pd.Series(x).idxmax())\n",
    "\n",
    "    # 当前日距离过去N天最高价的天数\n",
    "    high_len = df.index - high_len\n",
    "    aroon_up = 100 * (n - high_len) / n\n",
    "\n",
    "    low_len = df['low'].rolling(n, min_periods=1).apply(lambda x: pd.Series(x).idxmin())\n",
    "    low_len = df.index - low_len\n",
    "    aroon_down = 100 * (n - low_len) / n\n",
    "\n",
    "    return aroon_up, aroon_down\n",
    "\n",
    "%time up_naive, down_naive = aroon_naive(df, n)"
   ]
  },
  {
   "cell_type": "code",
   "execution_count": 5,
   "id": "0ebaad21",
   "metadata": {},
   "outputs": [
    {
     "name": "stdout",
     "output_type": "stream",
     "text": [
      "CPU times: user 369 ms, sys: 1.77 ms, total: 370 ms\n",
      "Wall time: 370 ms\n",
      "Check up\n",
      "Num of nan: 199\n",
      "Num of equal: 49801, Num of not equal: 0, Ratio good: 100.0%\n",
      "Check down\n",
      "Num of nan: 199\n",
      "Num of equal: 49801, Num of not equal: 0, Ratio good: 100.0%\n"
     ]
    }
   ],
   "source": [
    "def high_len_cal(x):\n",
    "    return (np.maximum.accumulate(x) == x.max()).sum()\n",
    "  \n",
    "def low_len_cal(x):\n",
    "    return (np.minimum.accumulate(x) == x.min()).sum()\n",
    "\n",
    "def aroon_numpy(df, n):\n",
    "    high_len = df['high'].rolling(n).apply(high_len_cal, raw=True, engine='cython') - 1\n",
    "    aroon_up = 100 * (n - high_len) / n\n",
    "\n",
    "    low_len = df['low'].rolling(n).apply(low_len_cal, raw=True, engine='cython') - 1\n",
    "    aroon_down = 100 * (n - low_len) / n\n",
    "    return aroon_up, aroon_down\n",
    "\n",
    "%time up_numpy, down_numpy = aroon_numpy(df, n)\n",
    "print('Check up')\n",
    "check_signal(up_naive, up_numpy)\n",
    "\n",
    "print('Check down')\n",
    "check_signal(down_naive, down_numpy)"
   ]
  },
  {
   "cell_type": "code",
   "execution_count": 6,
   "id": "b1699008",
   "metadata": {},
   "outputs": [
    {
     "name": "stdout",
     "output_type": "stream",
     "text": [
      "CPU times: user 27.8 ms, sys: 189 µs, total: 28 ms\n",
      "Wall time: 28 ms\n",
      "Check up\n",
      "Num of nan: 0\n",
      "Num of equal: 50000, Num of not equal: 0, Ratio good: 100.0%\n",
      "Check down\n",
      "Num of nan: 0\n",
      "Num of equal: 50000, Num of not equal: 0, Ratio good: 100.0%\n"
     ]
    }
   ],
   "source": [
    "@nb.njit(nb.int32[:](nb.float64[:], nb.int32), cache=True)\n",
    "def rolling_argmin(arr, n):\n",
    "    idx_min = 0\n",
    "    results = np.empty(len(arr), dtype=np.int32)\n",
    "    for i, x in enumerate(arr):\n",
    "        if i < n:\n",
    "            results[i] = np.argmin(arr[: i + 1])\n",
    "        else:\n",
    "            results[i] = np.argmin(arr[i - n + 1: i + 1]) + i - n + 1\n",
    "    return results\n",
    "\n",
    "def aroon_numba(df, n):\n",
    "    low_len = pd.Series(rolling_argmin(df['low'].values, n))\n",
    "\n",
    "    high_len = pd.Series(rolling_argmin(-df['high'].values, n))\n",
    "\n",
    "    high_len = df.index - high_len\n",
    "    low_len = df.index - low_len\n",
    "\n",
    "    aroon_up = 100 * (n - high_len) / n\n",
    "    aroon_down = 100 * (n - low_len) / n\n",
    "    return pd.Series(aroon_up), pd.Series(aroon_down)\n",
    "\n",
    "%time up_numba, down_numba = aroon_numba(df, n)\n",
    "print('Check up')\n",
    "check_signal(up_naive, up_numba)\n",
    "\n",
    "print('Check down')\n",
    "check_signal(down_naive, down_numba)"
   ]
  },
  {
   "cell_type": "code",
   "execution_count": 7,
   "id": "0f834ef4",
   "metadata": {},
   "outputs": [
    {
     "name": "stdout",
     "output_type": "stream",
     "text": [
      "CPU times: user 1.79 ms, sys: 67 µs, total: 1.86 ms\n",
      "Wall time: 1.87 ms\n",
      "Check up\n",
      "Num of nan: 0\n",
      "Num of equal: 50000, Num of not equal: 0, Ratio good: 100.0%\n",
      "Check down\n",
      "Num of nan: 0\n",
      "Num of equal: 50000, Num of not equal: 0, Ratio good: 100.0%\n"
     ]
    }
   ],
   "source": [
    "@nb.njit(nb.int32[:](nb.float64[:], nb.int32), cache=True)\n",
    "def rolling_argmin_queue(arr, n):\n",
    "    results = np.empty(len(arr), dtype=np.int32)\n",
    "    \n",
    "    head = 0\n",
    "    tail = 0\n",
    "    que_idx = np.empty(len(arr), dtype=np.int32)\n",
    "    for i, x in enumerate(arr[:n]):\n",
    "        while tail > 0 and arr[que_idx[tail - 1]] > x:\n",
    "            tail -= 1\n",
    "        que_idx[tail] = i\n",
    "        tail += 1\n",
    "        results[i] = que_idx[0]\n",
    "    \n",
    "    for i, x in enumerate(arr[n:], n):\n",
    "        if que_idx[head] <= i - n:\n",
    "            head += 1\n",
    "        while tail > head and arr[que_idx[tail - 1]] > x:\n",
    "            tail -= 1\n",
    "        que_idx[tail] = i\n",
    "        tail += 1\n",
    "        results[i] = que_idx[head]\n",
    "    return results\n",
    "            \n",
    "def aroon_numba_queue(df, n):\n",
    "    low_len = pd.Series(rolling_argmin_queue(df['low'].values, n))\n",
    "    high_len = pd.Series(rolling_argmin_queue(-df['high'].values, n))\n",
    "    \n",
    "    high_len = df.index - high_len\n",
    "    low_len = df.index - low_len\n",
    "\n",
    "    aroon_up = 100 * (n - high_len) / n\n",
    "    aroon_down = 100 * (n - low_len) / n\n",
    "    return pd.Series(aroon_up), pd.Series(aroon_down)\n",
    "\n",
    "%time up_nbque, down_nbque = aroon_numba_queue(df, n)\n",
    "print('Check up')\n",
    "check_signal(up_naive, up_nbque)\n",
    "\n",
    "print('Check down')\n",
    "check_signal(down_naive, down_nbque)"
   ]
  }
 ],
 "metadata": {
  "kernelspec": {
   "display_name": "Python 3 (ipykernel)",
   "language": "python",
   "name": "python3"
  },
  "language_info": {
   "codemirror_mode": {
    "name": "ipython",
    "version": 3
   },
   "file_extension": ".py",
   "mimetype": "text/x-python",
   "name": "python",
   "nbconvert_exporter": "python",
   "pygments_lexer": "ipython3",
   "version": "3.9.12"
  }
 },
 "nbformat": 4,
 "nbformat_minor": 5
}
